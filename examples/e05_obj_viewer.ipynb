{
 "cells": [
  {
   "cell_type": "markdown",
   "source": [
    "# OBJ Viewer\n",
    "\n",
    "__loading obj file, transforms, textures and shading__\n"
   ],
   "metadata": {
    "collapsed": false
   },
   "id": "328136ea2c2aac7"
  },
  {
   "cell_type": "code",
   "execution_count": 1,
   "outputs": [
    {
     "name": "stdout",
     "output_type": "stream",
     "text": [
      "Executing locally\n"
     ]
    }
   ],
   "source": [
    "from moviepy.Clip import Clip\n",
    "\n",
    "try: # install all dependencies in colab \n",
    "    import google.colab\n",
    "    !sudo apt-get update -y\n",
    "    !sudo apt-get install -y libnvidia-gl-555 vulkan-tools glslang-tools vulkan-validationlayers-dev\n",
    "    !pip install pyav==13.1.0\n",
    "    !pip install git+https://github.com/rendervous/vulky_project.git\n",
    "except:\n",
    "    print(\"Executing locally\")"
   ],
   "metadata": {
    "collapsed": false,
    "ExecuteTime": {
     "end_time": "2025-07-29T20:26:01.375429300Z",
     "start_time": "2025-07-29T20:26:00.884318400Z"
    }
   },
   "id": "edc4efaea3543e7e"
  },
  {
   "cell_type": "code",
   "execution_count": 2,
   "outputs": [
    {
     "name": "stdout",
     "output_type": "stream",
     "text": [
      "[INFO] Debug instance created...\n",
      "[PRINT] Inserted device layer \"VK_LAYER_KHRONOS_validation\" (C:\\VulkanSDK\\1.3.275.0\\Bin\\.\\VkLayer_khronos_validation.dll)\n",
      "[PRINT] Inserted device layer \"VK_LAYER_OBS_HOOK\" (C:\\ProgramData\\obs-studio-hook\\.\\graphics-hook64.dll)\n",
      "[PRINT] Inserted device layer \"VK_LAYER_NV_optimus\" (C:\\WINDOWS\\System32\\DriverStore\\FileRepository\\nv_dispi.inf_amd64_cc569e59ca39c5fe\\.\\nvoglv64.dll)\n",
      "[PRINT] vkCreateDevice layer callstack setup to:\n",
      "[PRINT]    <Application>\n",
      "[PRINT]      ||\n",
      "[PRINT]    <Loader>\n",
      "[PRINT]      ||\n",
      "[PRINT]    VK_LAYER_NV_optimus\n",
      "[PRINT]            Type: Implicit\n",
      "[PRINT]                Disable Env Var:  DISABLE_LAYER_NV_OPTIMUS_1\n",
      "[PRINT]            Manifest: C:\\WINDOWS\\System32\\DriverStore\\FileRepository\\nv_dispi.inf_amd64_cc569e59ca39c5fe\\nv-vk64.json\n",
      "[PRINT]            Library:  C:\\WINDOWS\\System32\\DriverStore\\FileRepository\\nv_dispi.inf_amd64_cc569e59ca39c5fe\\.\\nvoglv64.dll\n",
      "[PRINT]      ||\n",
      "[PRINT]    VK_LAYER_OBS_HOOK\n",
      "[PRINT]            Type: Implicit\n",
      "[PRINT]                Disable Env Var:  DISABLE_VULKAN_OBS_CAPTURE\n",
      "[PRINT]            Manifest: C:\\ProgramData\\obs-studio-hook\\obs-vulkan64.json\n",
      "[PRINT]            Library:  C:\\ProgramData\\obs-studio-hook\\.\\graphics-hook64.dll\n",
      "[PRINT]      ||\n",
      "[PRINT]    VK_LAYER_KHRONOS_validation\n",
      "[PRINT]            Type: Explicit\n",
      "[PRINT]            Manifest: C:\\VulkanSDK\\1.3.275.0\\Bin\\VkLayer_khronos_validation.json\n",
      "[PRINT]            Library:  C:\\VulkanSDK\\1.3.275.0\\Bin\\.\\VkLayer_khronos_validation.dll\n",
      "[PRINT]      ||\n",
      "[PRINT]    <Device>\n",
      "[PRINT]        Using \"NVIDIA GeForce RTX 2080 Ti\" with driver: \"C:\\WINDOWS\\System32\\DriverStore\\FileRepository\\nv_dispi.inf_amd64_cc569e59ca39c5fe\\.\\nvoglv64.dll\"\n"
     ]
    }
   ],
   "source": [
    "import vulky as vk\n",
    "import numpy as np\n",
    "import vulky.datasets as datasets\n",
    "\n",
    "vk.create_device(debug=True)\n",
    "SCREEN_WIDTH = 512\n",
    "SCREEN_HEIGHT = 512\n",
    "render_target = vk.render_target(\n",
    "    image_format=vk.Format.VEC4,\n",
    "    width=SCREEN_WIDTH,\n",
    "    height=SCREEN_HEIGHT\n",
    ")\n",
    "depth_buffer = vk.depth_stencil(\n",
    "    width=SCREEN_WIDTH,\n",
    "    height=SCREEN_HEIGHT\n",
    ")"
   ],
   "metadata": {
    "collapsed": false,
    "ExecuteTime": {
     "end_time": "2025-07-29T20:26:04.718104500Z",
     "start_time": "2025-07-29T20:26:01.360430500Z"
    }
   },
   "id": "6b0aac64eba93bfc"
  },
  {
   "cell_type": "code",
   "execution_count": 3,
   "outputs": [],
   "source": [
    "# data = vk.load_obj('./vulky_data/bunny.obj')\n",
    "data = datasets.Meshes.bunny  # loads the bunny obj"
   ],
   "metadata": {
    "collapsed": false,
    "ExecuteTime": {
     "end_time": "2025-07-29T20:26:06.729143900Z",
     "start_time": "2025-07-29T20:26:04.719105600Z"
    }
   },
   "id": "5d90346b2720b5a2"
  },
  {
   "cell_type": "code",
   "execution_count": 4,
   "outputs": [],
   "source": [
    "vertices, indices = vk.create_mesh(data, mode='po')"
   ],
   "metadata": {
    "collapsed": false,
    "ExecuteTime": {
     "end_time": "2025-07-29T20:26:06.761939100Z",
     "start_time": "2025-07-29T20:26:06.729143900Z"
    }
   },
   "id": "4fcec3a16e60de7e"
  },
  {
   "cell_type": "code",
   "execution_count": 5,
   "outputs": [],
   "source": [
    "vertex_buffer = vk.vertex_buffer(len(vertices), element_description=dict(\n",
    "    P=vk.vec3,\n",
    "    N=vk.vec3,\n",
    "    C=vk.vec2\n",
    ")).load(vertices)\n",
    "\n",
    "number_of_indices = indices.numel()\n",
    "index_buffer = vk.index_buffer(number_of_indices).load(indices)"
   ],
   "metadata": {
    "collapsed": false,
    "ExecuteTime": {
     "end_time": "2025-07-29T20:26:06.776047500Z",
     "start_time": "2025-07-29T20:26:06.759936900Z"
    }
   },
   "id": "bb6dfce3d7b6d6ff"
  },
  {
   "cell_type": "markdown",
   "source": [
    "**Vulky** follows PyTorch's convention of using **row-major** memory layout for matrices and assumes **row vectors** for transformations. In contrast, **GLSL** by default assumes **column-major** matrices and uses **column vectors** for transformations.\n",
    "\n",
    "Interpreting a row-major matrix as column-major effectively performs an implicit transpose, which aligns the semantics of row-vector transformations in Vulky with column-vector transformations in GLSL.\n",
    " "
   ],
   "metadata": {
    "collapsed": false
   },
   "id": "2d220ff7aa9ca11"
  },
  {
   "cell_type": "code",
   "execution_count": 6,
   "outputs": [],
   "source": [
    "global_transform = vk.object_buffer(\n",
    "    vk.Layout.from_structure(\n",
    "        vk.LayoutAlignment.SCALAR,\n",
    "        Proj=vk.mat4,\n",
    "        View=vk.mat4\n",
    "    )\n",
    ")\n",
    "\n",
    "with global_transform as b:\n",
    "    b.Proj = vk.mat4.perspective()\n",
    "    b.View = vk.mat4.look_at(vk.vec3(0., 1., -4.), vk.vec3(0., 0., 0.), vk.vec3(0.,1., 0.))\n",
    "\n",
    "local_transforms = [\n",
    "    vk.object_buffer(\n",
    "        vk.Layout.from_structure(\n",
    "            vk.LayoutAlignment.SCALAR,\n",
    "            World=vk.mat4\n",
    "        ),\n",
    "        memory=vk.MemoryLocation.GPU\n",
    "    ) for o in range(1)\n",
    "]\n",
    "\n",
    "for i, b in enumerate(local_transforms):\n",
    "    with b as t:\n",
    "        t.World = vk.mat4.trs(vk.vec3(np.cos(i * 6.28 / 3), -0.2, np.sin(i * 6.28 / 3)), vk.vec3(0., 1., 0.0), i*3.14159/3, vk.vec3.one())"
   ],
   "metadata": {
    "collapsed": false,
    "ExecuteTime": {
     "end_time": "2025-07-29T20:26:06.791761700Z",
     "start_time": "2025-07-29T20:26:06.771048200Z"
    }
   },
   "id": "2af85fc4376054b2"
  },
  {
   "cell_type": "code",
   "execution_count": 7,
   "outputs": [],
   "source": [
    "vertex_shader_code = \"\"\"\n",
    "#version 450\n",
    "#extension GL_EXT_scalar_block_layout: enable\n",
    "\n",
    "layout(location = 0) in vec3 in_position;\n",
    "layout(location = 1) in vec3 in_normals;\n",
    "layout(location = 2) in vec2 in_coordinates;\n",
    "layout(location = 0) out vec3 out_position;\n",
    "layout(location = 1) out vec3 out_normals;\n",
    "layout(location = 2) out vec2 out_coordinates;\n",
    "\n",
    "layout(std430, set=0, binding=0) uniform Globals{\n",
    "    mat4 Proj;\n",
    "    mat4 View;\n",
    "};\n",
    "\n",
    "layout(std430, set=1, binding=1) uniform Locals{\n",
    "    mat4 World;\n",
    "};\n",
    "\n",
    "void main()\n",
    "{\n",
    "    vec4 P = vec4(in_position, 1.0);\n",
    "    P = World * P;\n",
    "    out_position = P.xyz;\n",
    "    gl_Position = Proj * (View * P);\n",
    "    vec4 N = vec4(in_normals, 0.0);\n",
    "    out_normals = (World * N).xyz;\n",
    "    out_coordinates = in_coordinates;\n",
    "}\n",
    "\"\"\"\n",
    "\n",
    "fragment_shader_code = \"\"\"\n",
    "#version 450\n",
    "layout(location = 0) in vec3 in_position;\n",
    "layout(location = 1) in vec3 in_normals;\n",
    "layout(location = 2) in vec2 in_coordinates;\n",
    "layout(location = 0) out vec4 out_color;\n",
    "void main() {\n",
    "    // out_color = vec4(in_coordinates, 0, 1.0);\n",
    "    out_color = vec4(in_normals*0.5+0.5, 1.0);\n",
    "}\n",
    "\"\"\""
   ],
   "metadata": {
    "collapsed": false,
    "ExecuteTime": {
     "end_time": "2025-07-29T20:26:06.818605800Z",
     "start_time": "2025-07-29T20:26:06.791761700Z"
    }
   },
   "id": "644317e58919b0b4"
  },
  {
   "cell_type": "code",
   "execution_count": 8,
   "outputs": [],
   "source": [
    "pipeline = vk.pipeline_graphics()\n",
    "pipeline.attach(slot=0, render_target=vk.Format.VEC4)\n",
    "pipeline.attach(slot=1, depth_buffer=vk.Format.DEPTH_STENCIL)\n",
    "pipeline.layout(set=0, binding=0, global_transform=vk.DescriptorType.UNIFORM_BUFFER)\n",
    "pipeline.layout(set=1, binding=1, local_transform=vk.DescriptorType.UNIFORM_BUFFER)\n",
    "pipeline.vertex(location=0, in_position=vk.Format.VEC3)\n",
    "pipeline.vertex(location=1, in_normals=vk.Format.VEC3)\n",
    "pipeline.vertex(location=2, in_coordinates=vk.Format.VEC2)\n",
    "pipeline.vertex_binding(\n",
    "    binding=0,\n",
    "    stride=(3+3+2)*4,\n",
    "    in_position=0,\n",
    "    in_normals=3*4,\n",
    "    in_coordinates=6*4,\n",
    ")\n",
    "with pipeline.shader_stages(vk.ShaderStage.VERTEX):\n",
    "    pipeline.load_shader_from_source(vertex_shader_code)\n",
    "with pipeline.shader_stages(vk.ShaderStage.FRAGMENT):\n",
    "    pipeline.load_shader_from_source(fragment_shader_code)\n",
    "pipeline.close()"
   ],
   "metadata": {
    "collapsed": false,
    "ExecuteTime": {
     "end_time": "2025-07-29T20:26:07.102304900Z",
     "start_time": "2025-07-29T20:26:06.803604400Z"
    }
   },
   "id": "4505008646a31310"
  },
  {
   "cell_type": "code",
   "execution_count": 9,
   "outputs": [],
   "source": [
    "global_bindings = pipeline.create_descriptor_set_collection(set=0, count=1)\n",
    "global_bindings[0].update(global_transform=global_transform)\n",
    "local_bindings = pipeline.create_descriptor_set_collection(set=1, count=len(local_transforms))\n",
    "for i, lt in enumerate(local_transforms):\n",
    "    local_bindings[i].update(\n",
    "        local_transform=local_transforms[i]\n",
    "    )\n",
    "\n",
    "framebuffer = pipeline.create_framebuffer(\n",
    "    width=SCREEN_WIDTH,\n",
    "    height=SCREEN_HEIGHT,\n",
    "    render_target=render_target,\n",
    "    depth_buffer=depth_buffer\n",
    ")"
   ],
   "metadata": {
    "collapsed": false,
    "ExecuteTime": {
     "end_time": "2025-07-29T20:26:07.114788300Z",
     "start_time": "2025-07-29T20:26:07.103305800Z"
    }
   },
   "id": "35814d7d70b66ca8"
  },
  {
   "cell_type": "code",
   "execution_count": 10,
   "outputs": [],
   "source": [
    "man = vk.graphics_manager()\n",
    "man.clear_color(render_target, (0.0, 0.0, 0.4, 1.))\n",
    "man.clear_depth_stencil(depth_buffer, 1.0, 0)\n",
    "man.set_pipeline(pipeline)\n",
    "man.set_framebuffer(framebuffer)\n",
    "man.set_viewport(0.0, framebuffer.height, framebuffer.width, -framebuffer.height)\n",
    "man.bind(global_bindings[0])"
   ],
   "metadata": {
    "collapsed": false,
    "ExecuteTime": {
     "end_time": "2025-07-29T20:26:07.133791400Z",
     "start_time": "2025-07-29T20:26:07.109793400Z"
    }
   },
   "id": "475beaa6db2e8a0"
  },
  {
   "cell_type": "code",
   "execution_count": 11,
   "outputs": [],
   "source": [
    "man.bind_vertex_buffer(0, vertex_buffer)\n",
    "man.bind_index_buffer(index_buffer)"
   ],
   "metadata": {
    "collapsed": false,
    "ExecuteTime": {
     "end_time": "2025-07-29T20:26:07.149261500Z",
     "start_time": "2025-07-29T20:26:07.127793300Z"
    }
   },
   "id": "ca282b5fd505974a"
  },
  {
   "cell_type": "code",
   "execution_count": 12,
   "outputs": [],
   "source": [
    "for i in range(len(local_transforms)):\n",
    "    man.bind(local_bindings[i])\n",
    "    man.dispatch_indexed_primitives(number_of_indices)\n",
    "man.freeze()"
   ],
   "metadata": {
    "collapsed": false,
    "ExecuteTime": {
     "end_time": "2025-07-29T20:26:07.162332400Z",
     "start_time": "2025-07-29T20:26:07.144265500Z"
    }
   },
   "id": "19d25019d190f5f3"
  },
  {
   "cell_type": "code",
   "execution_count": 13,
   "outputs": [],
   "source": [
    "vk.submit(man)"
   ],
   "metadata": {
    "collapsed": false,
    "ExecuteTime": {
     "end_time": "2025-07-29T20:26:07.171846100Z",
     "start_time": "2025-07-29T20:26:07.157760Z"
    }
   },
   "id": "77f5a29d82a92d9a"
  },
  {
   "cell_type": "code",
   "execution_count": 14,
   "outputs": [
    {
     "data": {
      "text/plain": "<Figure size 640x480 with 1 Axes>",
      "image/png": "[encoded data removed]"
     },
     "metadata": {},
     "output_type": "display_data"
    }
   ],
   "source": [
    "import matplotlib.pyplot as plt\n",
    "staging = vk.tensor(render_target.height, render_target.width, 4)  \n",
    "render_target.save(staging)\n",
    "# visualize the tensor with matplotlib\n",
    "plt.imshow(staging.cpu())\n",
    "# plt.gca().axis('off')\n",
    "plt.tight_layout(pad=0.0)\n",
    "plt.show()"
   ],
   "metadata": {
    "collapsed": false,
    "ExecuteTime": {
     "end_time": "2025-07-29T20:26:07.856122600Z",
     "start_time": "2025-07-29T20:26:07.166845600Z"
    }
   },
   "id": "2eeb6d7362f12c08"
  },
  {
   "cell_type": "markdown",
   "source": [
    "Let's create the video!"
   ],
   "metadata": {
    "collapsed": false
   },
   "id": "66c07cc69ac4a454"
  },
  {
   "cell_type": "code",
   "execution_count": 15,
   "outputs": [],
   "source": [
    "video_data = vk.tensor(100, SCREEN_HEIGHT, SCREEN_WIDTH, 3)  # 100 frames"
   ],
   "metadata": {
    "collapsed": false,
    "ExecuteTime": {
     "end_time": "2025-07-29T20:26:07.868127900Z",
     "start_time": "2025-07-29T20:26:07.856122600Z"
    }
   },
   "id": "7b9ad51f69ba9b8c"
  },
  {
   "cell_type": "code",
   "execution_count": 16,
   "outputs": [],
   "source": [
    "# populate\n",
    "for i in range(len(video_data)):\n",
    "    alpha = i / len(video_data)\n",
    "    look_at = vk.vec3(np.cos(alpha * 7), np.sin(alpha)*0.1 + 0.2, np.sin(alpha * 7))*(5 + np.sin(alpha))\n",
    "    # we dont need to map because is permanently mapped and update is always CPU -> GPU\n",
    "    with global_transform as b:\n",
    "        b.View = vk.mat4.look_at(look_at, vk.vec3(0., 0., 0.), vk.vec3(0.,1., 0.))\n",
    "    vk.submit(man)\n",
    "    render_target.save(staging)\n",
    "    video_data[i] = staging[...,:3]  # copy current frame to video (only RGB)  \n",
    "\n",
    "vk.save_video(video_data, 'teaser5.webp', 10, quality=100)"
   ],
   "metadata": {
    "collapsed": false,
    "ExecuteTime": {
     "end_time": "2025-07-29T20:26:10.505561200Z",
     "start_time": "2025-07-29T20:26:07.862127400Z"
    }
   },
   "id": "37eda689d29e56df"
  },
  {
   "cell_type": "code",
   "execution_count": 17,
   "outputs": [
    {
     "data": {
      "text/plain": "<IPython.core.display.HTML object>",
      "text/html": "<img src='teaser5.webp?2369138.0071923' type='image/webp'>"
     },
     "metadata": {},
     "output_type": "display_data"
    }
   ],
   "source": [
    "vk.notebook_show('teaser5.webp')"
   ],
   "metadata": {
    "collapsed": false
   },
   "id": "9ae156aa1dfee110"
  }
 ],
 "metadata": {
  "kernelspec": {
   "display_name": "Python 3",
   "language": "python",
   "name": "python3"
  },
  "language_info": {
   "codemirror_mode": {
    "name": "ipython",
    "version": 2
   },
   "file_extension": ".py",
   "mimetype": "text/x-python",
   "name": "python",
   "nbconvert_exporter": "python",
   "pygments_lexer": "ipython2",
   "version": "2.7.6"
  }
 },
 "nbformat": 4,
 "nbformat_minor": 5
}
