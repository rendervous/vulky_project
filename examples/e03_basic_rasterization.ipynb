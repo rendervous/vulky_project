{
 "cells": [
  {
   "cell_type": "markdown",
   "source": [
    "# Basic Rasterization\n",
    "\n",
    "**Framebuffers, Dispatching Primitives, Instances**\n",
    "\n",
    "A distinctive aspect of a rasterizer is the way output is handled. In a compute shader, the generated image is accessed at random positions to store output values. In a rasterizer, it's convenient that multiple render targets and depth-stencil buffers are aligned, and there's an implicit process that consumes colors, depth, and stencil values, operates on them, and updates the respective buffers.\n",
    "\n",
    "The color attachments can be written to in the fragment shader using `out` locations. Depth and stencil operations can be statically defined in the graphics pipeline or configured dynamically via the command buffer manager.\n",
    "\n",
    "In this tutorial, we will render different quads to demonstrate the setup of graphics pipelines and how instancing works.\n"
   ],
   "metadata": {
    "collapsed": false
   },
   "id": "291187c2f3a6e815"
  },
  {
   "cell_type": "code",
   "execution_count": 1,
   "outputs": [
    {
     "name": "stdout",
     "output_type": "stream",
     "text": [
      "Executing locally\n"
     ]
    }
   ],
   "source": [
    "try: # install all dependencies in colab \n",
    "    import google.colab\n",
    "    !sudo apt-get update -y\n",
    "    !sudo apt-get install -y libnvidia-gl-555 vulkan-tools glslang-tools vulkan-validationlayers-dev\n",
    "    !pip install pyav==13.1.0\n",
    "    !pip install git+https://github.com/rendervous/vulky_project.git\n",
    "except:\n",
    "    print(\"Executing locally\")"
   ],
   "metadata": {
    "collapsed": false,
    "ExecuteTime": {
     "end_time": "2025-07-29T20:16:10.991061300Z",
     "start_time": "2025-07-29T20:16:10.745121Z"
    }
   },
   "id": "32bc54922c4227ab"
  },
  {
   "cell_type": "code",
   "execution_count": 2,
   "outputs": [
    {
     "name": "stdout",
     "output_type": "stream",
     "text": [
      "[INFO] Debug instance created...\n",
      "[PRINT] Inserted device layer \"VK_LAYER_KHRONOS_validation\" (C:\\VulkanSDK\\1.3.275.0\\Bin\\.\\VkLayer_khronos_validation.dll)\n",
      "[PRINT] Inserted device layer \"VK_LAYER_OBS_HOOK\" (C:\\ProgramData\\obs-studio-hook\\.\\graphics-hook64.dll)\n",
      "[PRINT] Inserted device layer \"VK_LAYER_NV_optimus\" (C:\\WINDOWS\\System32\\DriverStore\\FileRepository\\nv_dispi.inf_amd64_cc569e59ca39c5fe\\.\\nvoglv64.dll)\n",
      "[PRINT] vkCreateDevice layer callstack setup to:\n",
      "[PRINT]    <Application>\n",
      "[PRINT]      ||\n",
      "[PRINT]    <Loader>\n",
      "[PRINT]      ||\n",
      "[PRINT]    VK_LAYER_NV_optimus\n",
      "[PRINT]            Type: Implicit\n",
      "[PRINT]                Disable Env Var:  DISABLE_LAYER_NV_OPTIMUS_1\n",
      "[PRINT]            Manifest: C:\\WINDOWS\\System32\\DriverStore\\FileRepository\\nv_dispi.inf_amd64_cc569e59ca39c5fe\\nv-vk64.json\n",
      "[PRINT]            Library:  C:\\WINDOWS\\System32\\DriverStore\\FileRepository\\nv_dispi.inf_amd64_cc569e59ca39c5fe\\.\\nvoglv64.dll\n",
      "[PRINT]      ||\n",
      "[PRINT]    VK_LAYER_OBS_HOOK\n",
      "[PRINT]            Type: Implicit\n",
      "[PRINT]                Disable Env Var:  DISABLE_VULKAN_OBS_CAPTURE\n",
      "[PRINT]            Manifest: C:\\ProgramData\\obs-studio-hook\\obs-vulkan64.json\n",
      "[PRINT]            Library:  C:\\ProgramData\\obs-studio-hook\\.\\graphics-hook64.dll\n",
      "[PRINT]      ||\n",
      "[PRINT]    VK_LAYER_KHRONOS_validation\n",
      "[PRINT]            Type: Explicit\n",
      "[PRINT]            Manifest: C:\\VulkanSDK\\1.3.275.0\\Bin\\VkLayer_khronos_validation.json\n",
      "[PRINT]            Library:  C:\\VulkanSDK\\1.3.275.0\\Bin\\.\\VkLayer_khronos_validation.dll\n",
      "[PRINT]      ||\n",
      "[PRINT]    <Device>\n",
      "[PRINT]        Using \"NVIDIA GeForce RTX 2080 Ti\" with driver: \"C:\\WINDOWS\\System32\\DriverStore\\FileRepository\\nv_dispi.inf_amd64_cc569e59ca39c5fe\\.\\nvoglv64.dll\"\n"
     ]
    },
    {
     "data": {
      "text/plain": "<vulky._rendering_internal.DeviceManager at 0x1ea1dac3590>"
     },
     "execution_count": 2,
     "metadata": {},
     "output_type": "execute_result"
    }
   ],
   "source": [
    "import vulky as vk\n",
    "import torch\n",
    "\n",
    "vk.create_device(debug=True)"
   ],
   "metadata": {
    "collapsed": false,
    "ExecuteTime": {
     "end_time": "2025-07-29T20:16:13.724714Z",
     "start_time": "2025-07-29T20:16:10.752061600Z"
    }
   },
   "id": "6becb17d41d811b5"
  },
  {
   "cell_type": "markdown",
   "source": [
    "Next, we’ll define a set of constants to help parameterize and control the behavior of our example."
   ],
   "metadata": {
    "collapsed": false
   },
   "id": "abe5a6461b86bb88"
  },
  {
   "cell_type": "code",
   "execution_count": 3,
   "outputs": [],
   "source": [
    "SCREEN_WIDTH = 512\n",
    "SCREEN_HEIGHT = 512\n",
    "NUMBER_OF_SPRITES = 30"
   ],
   "metadata": {
    "collapsed": false,
    "ExecuteTime": {
     "end_time": "2025-07-29T20:16:13.736194700Z",
     "start_time": "2025-07-29T20:16:13.724714Z"
    }
   },
   "id": "27d1ad42ec9cd452"
  },
  {
   "cell_type": "markdown",
   "source": [
    "We'll create two images: one for the render target and another for the depth buffer. Both images will share the same dimensions. Vulkan automatically uses a higher-definition format for the depth-stencil buffer, ensuring more precise depth and stencil operations.\n",
    "\n",
    "These buffers will be used during the rendering process to store color information (render target) and depth/stencil information (depth buffer)."
   ],
   "metadata": {
    "collapsed": false
   },
   "id": "927bb67386f0944f"
  },
  {
   "cell_type": "code",
   "execution_count": 4,
   "outputs": [],
   "source": [
    "render_target = vk.render_target(\n",
    "    image_format=vk.Format.VEC4,\n",
    "    width=SCREEN_WIDTH,\n",
    "    height=SCREEN_HEIGHT\n",
    ")\n",
    "\n",
    "depth_buffer = vk.depth_stencil(\n",
    "    width=SCREEN_WIDTH,\n",
    "    height=SCREEN_HEIGHT\n",
    ")"
   ],
   "metadata": {
    "collapsed": false,
    "ExecuteTime": {
     "end_time": "2025-07-29T20:16:13.739965100Z",
     "start_time": "2025-07-29T20:16:13.729195Z"
    }
   },
   "id": "8ba29f41e46ac65f"
  },
  {
   "cell_type": "markdown",
   "source": [
    "We will create a buffer that stores the properties of the sprites, allocating one for each individual instance.\n"
   ],
   "metadata": {
    "collapsed": false
   },
   "id": "4fd7a1b643f0241d"
  },
  {
   "cell_type": "code",
   "execution_count": 5,
   "outputs": [],
   "source": [
    "sprite_properties = vk.structured_buffer(\n",
    "    count=NUMBER_OF_SPRITES,\n",
    "    element_description=dict(\n",
    "        offset=vk.vec3,\n",
    "        size=float,\n",
    "        color=vk.vec4,\n",
    "    )\n",
    ")"
   ],
   "metadata": {
    "collapsed": false,
    "ExecuteTime": {
     "end_time": "2025-07-29T20:16:13.753762300Z",
     "start_time": "2025-07-29T20:16:13.740964900Z"
    }
   },
   "id": "72b465a1ef74f127"
  },
  {
   "cell_type": "markdown",
   "source": [
    "Next, we'll populate the buffer with random values. Each entry will represent a box on the screen, with the `z` offset indicating depth and the color of the box.\n"
   ],
   "metadata": {
    "collapsed": false
   },
   "id": "c67ed7c3ac89e9c8"
  },
  {
   "cell_type": "code",
   "execution_count": 6,
   "outputs": [],
   "source": [
    "with sprite_properties.map(mode='in', clear=True) as b:\n",
    "    b.offset = torch.rand(NUMBER_OF_SPRITES, 3)*2 - 1.0\n",
    "    b.offset.z *= 0.5\n",
    "    b.offset.z += 0.5\n",
    "    b.size = torch.randn(NUMBER_OF_SPRITES, 1)*0.05\n",
    "    b.color = vk.vec4(0.5, 0.5, 0.5, 0.5) + torch.randn(NUMBER_OF_SPRITES, 4)*0.1\n",
    "    # b.color is a vec4, b.color[0] is not the first color but the first component for all colors\n",
    "    b.color[0] = 1.0  # set the red component for all 30 colors to 1.\n",
    "    # but cast to torch.Tensor is possible, meaning that is valid\n",
    "    b.color.as_subclass(torch.Tensor)[:NUMBER_OF_SPRITES//2, 3] = 1.0  \n",
    "    # That makes all alpha components for the first 15 colors 1.0"
   ],
   "metadata": {
    "collapsed": false,
    "ExecuteTime": {
     "end_time": "2025-07-29T20:16:13.795373500Z",
     "start_time": "2025-07-29T20:16:13.747207400Z"
    }
   },
   "id": "b38587f02ad2407e"
  },
  {
   "cell_type": "markdown",
   "source": [
    "Mapped buffers allow access through individual fields. Assigning a value to a field copies a tensor or constant across all elements in the buffer. Note that if the field contains a vector or matrix, indexing behavior will differ accordingly. Now, let's move on to defining the vertex and fragment shader code.\n"
   ],
   "metadata": {
    "collapsed": false
   },
   "id": "776c139ff56bd864"
  },
  {
   "cell_type": "code",
   "execution_count": 7,
   "outputs": [],
   "source": [
    "vertex_shader_code = \"\"\"\n",
    "#version 450\n",
    "#extension GL_EXT_scalar_block_layout: enable\n",
    "\n",
    "layout(location = 0) out vec4 out_color;\n",
    "\n",
    "struct SpriteInfo\n",
    "{\n",
    "    vec3 offset;\n",
    "    float size;\n",
    "    vec4 color;\n",
    "};\n",
    "\n",
    "layout(scalar, set=0, binding=0) buffer SpriteInfos {\n",
    "    SpriteInfo[] data;\n",
    "} infos;\n",
    "\n",
    "vec2[] quad = {\n",
    "    vec2(-1.0, -1.0), \n",
    "    vec2(1.0, -1.0),\n",
    "    vec2(-1.0, 1.0),\n",
    "    vec2(-1.0, 1.0),\n",
    "    vec2(1.0, -1.0),\n",
    "    vec2(1.0, 1.0)\n",
    "};\n",
    "\n",
    "void main()\n",
    "{\n",
    "    SpriteInfo info = infos.data[gl_InstanceIndex];\n",
    "    vec4 P = vec4(vec3(quad[gl_VertexIndex], 0)*info.size + info.offset, 1.0);\n",
    "    gl_Position = P;\n",
    "    out_color = info.color;\n",
    "}\n",
    "\"\"\"\n",
    "fragment_shader_code = \"\"\"\n",
    "#version 450\n",
    "layout(location = 0) in vec4 in_color;\n",
    "layout(location = 0) out vec4 out_color;\n",
    "void main()\n",
    "{\n",
    "    out_color = in_color;\n",
    "}\n",
    "\"\"\""
   ],
   "metadata": {
    "collapsed": false,
    "ExecuteTime": {
     "end_time": "2025-07-29T20:16:13.808370100Z",
     "start_time": "2025-07-29T20:16:13.755758900Z"
    }
   },
   "id": "fcbc33b0f4101a83"
  },
  {
   "cell_type": "markdown",
   "source": [
    "Keep in mind that the vertex shader will utilize the built-in variables `gl_VertexIndex` and `gl_InstanceIndex`. Next, we'll define the pipeline object, which connects the shaders, resource bindings, and framebuffer targets.\n"
   ],
   "metadata": {
    "collapsed": false
   },
   "id": "d45d91d10126f88"
  },
  {
   "cell_type": "code",
   "execution_count": 8,
   "outputs": [],
   "source": [
    "pipeline = vk.pipeline_graphics()\n",
    "pipeline.attach(0, render_target=vk.Format.VEC4)\n",
    "pipeline.attach(1, depth_buffer=vk.Format.DEPTH_STENCIL)\n",
    "pipeline.layout(set=0, binding=0, sprite_properties=vk.DescriptorType.STORAGE_BUFFER)\n",
    "with pipeline.shader_stages(vk.ShaderStage.VERTEX):\n",
    "    pipeline.load_shader_from_source(vertex_shader_code)\n",
    "with pipeline.shader_stages(vk.ShaderStage.FRAGMENT):\n",
    "    pipeline.load_shader_from_source(fragment_shader_code)\n",
    "pipeline.close()"
   ],
   "metadata": {
    "collapsed": false,
    "ExecuteTime": {
     "end_time": "2025-07-29T20:16:14.031394300Z",
     "start_time": "2025-07-29T20:16:13.759373900Z"
    }
   },
   "id": "f5b8bd72abaef031"
  },
  {
   "cell_type": "markdown",
   "source": [
    "Once the pipeline is finalized, its layout becomes fixed, allowing the creation of dependent objects such as framebuffers and descriptor set collections. The framebuffer object specifies the images that will be attached to the pipeline during execution. In Vulkan, a render pass— which includes a framebuffer— can consist of multiple subpasses to optimize dependencies between render targets. In Vulky, this concept is simplified to a single subpass.\n",
    "  "
   ],
   "metadata": {
    "collapsed": false
   },
   "id": "908c6746241255b6"
  },
  {
   "cell_type": "code",
   "execution_count": 9,
   "outputs": [],
   "source": [
    "framebuffer = pipeline.create_framebuffer(\n",
    "    width=SCREEN_WIDTH,\n",
    "    height=SCREEN_HEIGHT,\n",
    "    render_target=render_target,\n",
    "    depth_buffer=depth_buffer\n",
    ")"
   ],
   "metadata": {
    "collapsed": false,
    "ExecuteTime": {
     "end_time": "2025-07-29T20:16:14.045533100Z",
     "start_time": "2025-07-29T20:16:14.032391Z"
    }
   },
   "id": "4ef33ec20edb6b33"
  },
  {
   "cell_type": "markdown",
   "source": [
    "The pipeline is also responsible for creating the descriptor set, which in this example is used to bind a buffer containing all sprite properties.\n"
   ],
   "metadata": {
    "collapsed": false
   },
   "id": "1bca56d3cde31352"
  },
  {
   "cell_type": "code",
   "execution_count": 10,
   "outputs": [],
   "source": [
    "global_bindings = pipeline.create_descriptor_set_collection(set=0, count=1)\n",
    "global_bindings[0].update(sprite_properties=sprite_properties)"
   ],
   "metadata": {
    "collapsed": false,
    "ExecuteTime": {
     "end_time": "2025-07-29T20:16:14.045533100Z",
     "start_time": "2025-07-29T20:16:14.037417900Z"
    }
   },
   "id": "a77da1fb735ce54f"
  },
  {
   "cell_type": "markdown",
   "source": [
    "Next, we'll populate a command buffer. In this example, we record commands using a manager and then freeze the buffer before submitting it. This approach allows Vulky to re-submit the same command buffer multiple times. However, in this case, we’ll submit it only once—similar to using it within a single rendering context.\n"
   ],
   "metadata": {
    "collapsed": false
   },
   "id": "25d87ac07e505643"
  },
  {
   "cell_type": "code",
   "execution_count": 11,
   "outputs": [],
   "source": [
    "man = vk.graphics_manager()"
   ],
   "metadata": {
    "collapsed": false,
    "ExecuteTime": {
     "end_time": "2025-07-29T20:16:14.049662500Z",
     "start_time": "2025-07-29T20:16:14.041868900Z"
    }
   },
   "id": "50d1fc9518896ea1"
  },
  {
   "cell_type": "markdown",
   "source": [
    "Now, we can clear the render target using a dark blue color. Image transitions aren't required explicitly, as they are handled internally when needed. That said, image barriers are still supported, but they are only used to synchronize operations between different sections of the command buffer.\n"
   ],
   "metadata": {
    "collapsed": false
   },
   "id": "8163a8b1fe0a72d9"
  },
  {
   "cell_type": "code",
   "execution_count": 12,
   "outputs": [],
   "source": [
    "man.clear_color(render_target, (0.0, 0.0, 0.4, 1.0))\n",
    "man.clear_depth_stencil(depth_buffer, 1.0, 0)"
   ],
   "metadata": {
    "collapsed": false,
    "ExecuteTime": {
     "end_time": "2025-07-29T20:16:14.052181300Z",
     "start_time": "2025-07-29T20:16:14.047532300Z"
    }
   },
   "id": "bcd208cbfda12e0d"
  },
  {
   "cell_type": "markdown",
   "source": [
    "Next, we’ll set the pipeline, bind the framebuffer and the global descriptor set.\n"
   ],
   "metadata": {
    "collapsed": false
   },
   "id": "9ff04d1c6d2285f9"
  },
  {
   "cell_type": "code",
   "execution_count": 13,
   "outputs": [],
   "source": [
    "man.set_pipeline(pipeline)\n",
    "man.set_framebuffer(framebuffer)\n",
    "man.set_viewport(0.0, framebuffer.height, framebuffer.width, -framebuffer.height)\n",
    "man.bind(global_bindings[0])"
   ],
   "metadata": {
    "collapsed": false,
    "ExecuteTime": {
     "end_time": "2025-07-29T20:16:14.067852Z",
     "start_time": "2025-07-29T20:16:14.053181700Z"
    }
   },
   "id": "82e41c3d028204fd"
  },
  {
   "cell_type": "markdown",
   "source": [
    "At this stage, the graphics pipeline is fully configured, and an implicit render pass is active for drawing primitives. By default, the pipeline assumes a triangle topology, though this can be changed. The next instruction will dispatch 30 instances, each consisting of 6 vertices (forming 2 triangles per instance).\n"
   ],
   "metadata": {
    "collapsed": false
   },
   "id": "b32070151d68132a"
  },
  {
   "cell_type": "code",
   "execution_count": 14,
   "outputs": [],
   "source": [
    "man.dispatch_primitives(vertices=6, instances=30)"
   ],
   "metadata": {
    "collapsed": false,
    "ExecuteTime": {
     "end_time": "2025-07-29T20:16:14.113775400Z",
     "start_time": "2025-07-29T20:16:14.059469Z"
    }
   },
   "id": "5e858b9cdbe6d416"
  },
  {
   "cell_type": "markdown",
   "source": [
    "Once the command buffer is populated, we use `freeze` to finalize it and prepare it for submission."
   ],
   "metadata": {
    "collapsed": false
   },
   "id": "2b236af32a1b6354"
  },
  {
   "cell_type": "code",
   "execution_count": 15,
   "outputs": [],
   "source": [
    "man.freeze()"
   ],
   "metadata": {
    "collapsed": false,
    "ExecuteTime": {
     "end_time": "2025-07-29T20:16:14.114773200Z",
     "start_time": "2025-07-29T20:16:14.067341900Z"
    }
   },
   "id": "74eed33b97516a21"
  },
  {
   "cell_type": "markdown",
   "source": [
    "Now, we instruct Vulky to submit a command buffer. The difference between `close` and `freeze` is that when a command buffer is closed, its internal buffer is released and can be reused for recording new commands. In contrast, `freeze` preserves the buffer, allowing it to be re-submitted if necessary.\n"
   ],
   "metadata": {
    "collapsed": false
   },
   "id": "ba651891829209d0"
  },
  {
   "cell_type": "code",
   "execution_count": 16,
   "outputs": [],
   "source": [
    "vk.submit(man)"
   ],
   "metadata": {
    "collapsed": false,
    "ExecuteTime": {
     "end_time": "2025-07-29T20:16:14.115772300Z",
     "start_time": "2025-07-29T20:16:14.070863200Z"
    }
   },
   "id": "cc5686e4e1106414"
  },
  {
   "cell_type": "markdown",
   "source": [
    "Next, we copy the render target to a staging buffer. "
   ],
   "metadata": {
    "collapsed": false
   },
   "id": "1e3a449b520d59e8"
  },
  {
   "cell_type": "code",
   "execution_count": 17,
   "outputs": [
    {
     "data": {
      "text/plain": "<vulky._rendering_internal.Image at 0x1ea1daee610>"
     },
     "execution_count": 17,
     "metadata": {},
     "output_type": "execute_result"
    }
   ],
   "source": [
    "staging = vk.tensor(render_target.height, render_target.width, 4) \n",
    "render_target.save(staging)"
   ],
   "metadata": {
    "collapsed": false,
    "ExecuteTime": {
     "end_time": "2025-07-29T20:16:14.115772300Z",
     "start_time": "2025-07-29T20:16:14.076340800Z"
    }
   },
   "id": "d21bef622d4894a7"
  },
  {
   "cell_type": "code",
   "execution_count": 18,
   "outputs": [
    {
     "data": {
      "text/plain": "<Figure size 640x480 with 1 Axes>",
      "image/png": "[encoded data removed]"
     },
     "metadata": {},
     "output_type": "display_data"
    }
   ],
   "source": [
    "import matplotlib.pyplot as plt\n",
    "plt.imshow(staging.cpu())\n",
    "plt.gca().axis('off')\n",
    "plt.tight_layout(pad=0.0)\n",
    "plt.show()"
   ],
   "metadata": {
    "collapsed": false,
    "ExecuteTime": {
     "end_time": "2025-07-29T20:16:14.545424600Z",
     "start_time": "2025-07-29T20:16:14.083773800Z"
    }
   },
   "id": "b5818ae8a64f6229"
  },
  {
   "cell_type": "markdown",
   "source": [
    "Let's prepare a simple animation for this example"
   ],
   "metadata": {
    "collapsed": false
   },
   "id": "2d3ec03b529d7d36"
  },
  {
   "cell_type": "code",
   "execution_count": 19,
   "outputs": [],
   "source": [
    "video_data = vk.tensor(100, SCREEN_HEIGHT, SCREEN_WIDTH, 3)  # 100 frames\n",
    "initial_offset = torch.rand(NUMBER_OF_SPRITES, 3)*2 - 1.0\n",
    "initial_offset[..., 2] *= 0.5\n",
    "initial_offset[..., 2] += 0.5"
   ],
   "metadata": {
    "collapsed": false,
    "ExecuteTime": {
     "end_time": "2025-07-29T20:16:14.556496800Z",
     "start_time": "2025-07-29T20:16:14.544425200Z"
    }
   },
   "id": "7b934b229060ed29"
  },
  {
   "cell_type": "code",
   "execution_count": 20,
   "outputs": [],
   "source": [
    "for i in range(len(video_data)):\n",
    "    alpha = i / len(video_data)\n",
    "    # update buffer\n",
    "    # we use inout because we won't change everything, just a field\n",
    "    with sprite_properties.map(mode='inout') as b:  \n",
    "        b.offset = initial_offset\n",
    "        b.offset.y += torch.abs(torch.sin(((initial_offset[...,0] * 100)%1.0)*10 + alpha*30))*0.1\n",
    "        b.offset.x += torch.cos(((initial_offset[...,1]*40)%1.0)*10 + alpha*4)*0.3\n",
    "    # re-submit commands to gpu\n",
    "    with vk.graphics_manager() as b:  # transit from general to render target before rendering\n",
    "        b.use(render_target, vk.ImageUsage.ANY)\n",
    "        b.image_barrier(render_target, vk.ImageUsage.RENDER_TARGET)\n",
    "    vk.submit(man)  # by default will wait until finishes\n",
    "    with vk.graphics_manager() as b:  # transit from render target to general before saving\n",
    "        b.use(render_target, vk.ImageUsage.RENDER_TARGET)\n",
    "        b.image_barrier(render_target, vk.ImageUsage.ANY)\n",
    "    render_target.save(staging)\n",
    "    video_data[i] = staging[...,:3]  # copy current frame to video (only RGB)\n",
    "vk.save_video(video_data, 'teaser3.webp', 10, quality=100)"
   ],
   "metadata": {
    "collapsed": false,
    "ExecuteTime": {
     "end_time": "2025-07-29T20:16:17.908831300Z",
     "start_time": "2025-07-29T20:16:14.552496600Z"
    }
   },
   "id": "894ea1a80499a3c1"
  },
  {
   "cell_type": "code",
   "execution_count": 21,
   "outputs": [
    {
     "data": {
      "text/plain": "<IPython.core.display.HTML object>",
      "text/html": "<img src='teaser3.webp?2368545.4127002' type='image/webp'>"
     },
     "metadata": {},
     "output_type": "display_data"
    }
   ],
   "source": [
    "vk.notebook_show('teaser3.webp')"
   ],
   "metadata": {
    "collapsed": false
   },
   "id": "8c5007411c5bd95a"
  }
 ],
 "metadata": {
  "kernelspec": {
   "name": "python3",
   "language": "python",
   "display_name": "Python 3 (ipykernel)"
  },
  "language_info": {
   "codemirror_mode": {
    "name": "ipython",
    "version": 2
   },
   "file_extension": ".py",
   "mimetype": "text/x-python",
   "name": "python",
   "nbconvert_exporter": "python",
   "pygments_lexer": "ipython2",
   "version": "2.7.6"
  }
 },
 "nbformat": 4,
 "nbformat_minor": 5
}
