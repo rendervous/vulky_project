{
 "cells": [
  {
   "cell_type": "markdown",
   "source": [
    "# Vertex Buffers\n",
    "\n",
    "**Vertex declaration, vertex bindings, index buffer**\n",
    "\n",
    "In this example, we demonstrate how to work with vertex buffers in Vulky. This includes:\n",
    "\n",
    "- Creating and loading vertex buffer data  \n",
    "- Declaring vertex attributes (locations) in the pipeline  \n",
    "- Specifying vertex bindings (if statically defined in the pipeline)  \n",
    "- Binding vertex and index buffers using the command manager before issuing a draw call\n",
    "\n",
    "This process is similar to the previous example, but now focuses on setting up data for rendering geometry.\n"
   ],
   "metadata": {
    "collapsed": false
   },
   "id": "ab8764d9f09a84c2"
  },
  {
   "cell_type": "code",
   "execution_count": 1,
   "outputs": [
    {
     "name": "stdout",
     "output_type": "stream",
     "text": [
      "Executing locally\n"
     ]
    }
   ],
   "source": [
    "try: # install all dependencies in colab \n",
    "    import google.colab\n",
    "    !sudo apt-get update -y\n",
    "    !sudo apt-get install -y libnvidia-gl-555 vulkan-tools glslang-tools vulkan-validationlayers-dev\n",
    "    !pip install pyav==13.1.0\n",
    "    !pip install git+https://github.com/rendervous/vulky_project.git\n",
    "except:\n",
    "    print(\"Executing locally\")"
   ],
   "metadata": {
    "collapsed": false,
    "ExecuteTime": {
     "end_time": "2025-07-29T20:18:25.213331200Z",
     "start_time": "2025-07-29T20:18:25.152190200Z"
    }
   },
   "id": "96aeba74788088f0"
  },
  {
   "cell_type": "code",
   "execution_count": 2,
   "outputs": [
    {
     "name": "stdout",
     "output_type": "stream",
     "text": [
      "[INFO] Debug instance created...\n",
      "[PRINT] Inserted device layer \"VK_LAYER_KHRONOS_validation\" (C:\\VulkanSDK\\1.3.275.0\\Bin\\.\\VkLayer_khronos_validation.dll)\n",
      "[PRINT] Inserted device layer \"VK_LAYER_OBS_HOOK\" (C:\\ProgramData\\obs-studio-hook\\.\\graphics-hook64.dll)\n",
      "[PRINT] Inserted device layer \"VK_LAYER_NV_optimus\" (C:\\WINDOWS\\System32\\DriverStore\\FileRepository\\nv_dispi.inf_amd64_cc569e59ca39c5fe\\.\\nvoglv64.dll)\n",
      "[PRINT] vkCreateDevice layer callstack setup to:\n",
      "[PRINT]    <Application>\n",
      "[PRINT]      ||\n",
      "[PRINT]    <Loader>\n",
      "[PRINT]      ||\n",
      "[PRINT]    VK_LAYER_NV_optimus\n",
      "[PRINT]            Type: Implicit\n",
      "[PRINT]                Disable Env Var:  DISABLE_LAYER_NV_OPTIMUS_1\n",
      "[PRINT]            Manifest: C:\\WINDOWS\\System32\\DriverStore\\FileRepository\\nv_dispi.inf_amd64_cc569e59ca39c5fe\\nv-vk64.json\n",
      "[PRINT]            Library:  C:\\WINDOWS\\System32\\DriverStore\\FileRepository\\nv_dispi.inf_amd64_cc569e59ca39c5fe\\.\\nvoglv64.dll\n",
      "[PRINT]      ||\n",
      "[PRINT]    VK_LAYER_OBS_HOOK\n",
      "[PRINT]            Type: Implicit\n",
      "[PRINT]                Disable Env Var:  DISABLE_VULKAN_OBS_CAPTURE\n",
      "[PRINT]            Manifest: C:\\ProgramData\\obs-studio-hook\\obs-vulkan64.json\n",
      "[PRINT]            Library:  C:\\ProgramData\\obs-studio-hook\\.\\graphics-hook64.dll\n",
      "[PRINT]      ||\n",
      "[PRINT]    VK_LAYER_KHRONOS_validation\n",
      "[PRINT]            Type: Explicit\n",
      "[PRINT]            Manifest: C:\\VulkanSDK\\1.3.275.0\\Bin\\VkLayer_khronos_validation.json\n",
      "[PRINT]            Library:  C:\\VulkanSDK\\1.3.275.0\\Bin\\.\\VkLayer_khronos_validation.dll\n",
      "[PRINT]      ||\n",
      "[PRINT]    <Device>\n",
      "[PRINT]        Using \"NVIDIA GeForce RTX 2080 Ti\" with driver: \"C:\\WINDOWS\\System32\\DriverStore\\FileRepository\\nv_dispi.inf_amd64_cc569e59ca39c5fe\\.\\nvoglv64.dll\"\n"
     ]
    }
   ],
   "source": [
    "import vulky as vk\n",
    "import torch\n",
    "vk.create_device(debug=True)\n",
    "SCREEN_WIDTH = 512\n",
    "SCREEN_HEIGHT = 512\n",
    "render_target = vk.render_target(\n",
    "    image_format=vk.Format.VEC4,\n",
    "    width=SCREEN_WIDTH,\n",
    "    height=SCREEN_HEIGHT\n",
    ")\n",
    "depth_buffer = vk.depth_stencil(\n",
    "    width=SCREEN_WIDTH,\n",
    "    height=SCREEN_HEIGHT\n",
    ")"
   ],
   "metadata": {
    "collapsed": false,
    "ExecuteTime": {
     "end_time": "2025-07-29T20:18:28.127987500Z",
     "start_time": "2025-07-29T20:18:25.160331200Z"
    }
   },
   "id": "54f7724b4f11c1f"
  },
  {
   "cell_type": "code",
   "execution_count": 3,
   "outputs": [],
   "source": [
    "vertex_buffer = vk.vertex_buffer(4, element_description=dict(\n",
    "    P=vk.vec3,\n",
    "    C=vk.vec2\n",
    "))"
   ],
   "metadata": {
    "collapsed": false,
    "ExecuteTime": {
     "end_time": "2025-07-29T20:18:28.134890700Z",
     "start_time": "2025-07-29T20:18:28.128987500Z"
    }
   },
   "id": "1a28ebe8bedac906"
  },
  {
   "cell_type": "code",
   "execution_count": 4,
   "outputs": [],
   "source": [
    "with vertex_buffer.map(mode='in') as vb:\n",
    "    vb.P = [\n",
    "        [-.9, -.9, 0.5],\n",
    "        [.9, -.9, 0.5],\n",
    "        [.9, .9, 0.5],\n",
    "        [-.9, .9, 0.5]\n",
    "    ]\n",
    "    vb.C = [\n",
    "        [0.0, 0.0],\n",
    "        [1.0, 0.0],\n",
    "        [1.0, 1.0],\n",
    "        [0.0, 1.0]\n",
    "    ]"
   ],
   "metadata": {
    "collapsed": false,
    "ExecuteTime": {
     "end_time": "2025-07-29T20:18:28.141266100Z",
     "start_time": "2025-07-29T20:18:28.134890700Z"
    }
   },
   "id": "c1297384a038bb49"
  },
  {
   "cell_type": "code",
   "execution_count": 5,
   "outputs": [
    {
     "data": {
      "text/plain": "tensor([0, 0, 0, 0, 1, 0, 0, 0, 2, 0, 0, 0, 0, 0, 0, 0, 2, 0, 0, 0, 3, 0, 0, 0],\n       device='cuda:0', dtype=torch.uint8)"
     },
     "execution_count": 5,
     "metadata": {},
     "output_type": "execute_result"
    }
   ],
   "source": [
    "index_buffer = vk.index_buffer(6)\n",
    "index_buffer.load([0, 1, 2, 0, 2, 3])"
   ],
   "metadata": {
    "collapsed": false,
    "ExecuteTime": {
     "end_time": "2025-07-29T20:18:28.151189600Z",
     "start_time": "2025-07-29T20:18:28.142266400Z"
    }
   },
   "id": "798416e7d8b356e3"
  },
  {
   "cell_type": "code",
   "execution_count": 6,
   "outputs": [],
   "source": [
    "vertex_shader_code = \"\"\"\n",
    "#version 450\n",
    "#extension GL_EXT_scalar_block_layout: enable\n",
    "\n",
    "layout(location = 0) in vec3 in_position;\n",
    "layout(location = 1) in vec2 in_coordinates;\n",
    "layout(location = 0) out vec2 out_coordinates;\n",
    "\n",
    "void main()\n",
    "{\n",
    "    gl_Position = vec4(in_position, 1.0);\n",
    "    out_coordinates = in_coordinates;\n",
    "}\n",
    "\"\"\"\n",
    "fragment_shader_code = \"\"\"\n",
    "#version 450\n",
    "layout(location = 0) in vec2 in_coordinates;\n",
    "layout(location = 0) out vec4 out_color;\n",
    "void main() {\n",
    "    out_color = vec4(in_coordinates.x, in_coordinates.y, 1.0, 1.0);\n",
    "}\n",
    "\"\"\""
   ],
   "metadata": {
    "collapsed": false,
    "ExecuteTime": {
     "end_time": "2025-07-29T20:18:28.158451500Z",
     "start_time": "2025-07-29T20:18:28.152188200Z"
    }
   },
   "id": "98eecb2e2aae2323"
  },
  {
   "cell_type": "code",
   "execution_count": 7,
   "outputs": [],
   "source": [
    "pipeline = vk.pipeline_graphics()\n",
    "pipeline.attach(slot=0, render_target=vk.Format.VEC4)\n",
    "pipeline.attach(slot=1, depth_buffer=vk.Format.DEPTH_STENCIL)"
   ],
   "metadata": {
    "collapsed": false,
    "ExecuteTime": {
     "end_time": "2025-07-29T20:18:28.160971700Z",
     "start_time": "2025-07-29T20:18:28.157191800Z"
    }
   },
   "id": "b658d8622ee4ee54"
  },
  {
   "cell_type": "code",
   "execution_count": 8,
   "outputs": [],
   "source": [
    "pipeline.vertex(location=0, in_position=vk.Format.VEC3)\n",
    "pipeline.vertex(location=1, in_coordinates=vk.Format.VEC2)\n",
    "pipeline.vertex_binding(\n",
    "    binding=0,\n",
    "    stride=(3+2)*4,\n",
    "    in_position=0,\n",
    "    in_coordinates=3*4,\n",
    ")"
   ],
   "metadata": {
    "collapsed": false,
    "ExecuteTime": {
     "end_time": "2025-07-29T20:18:28.195508200Z",
     "start_time": "2025-07-29T20:18:28.161973800Z"
    }
   },
   "id": "7b8990be969413b9"
  },
  {
   "cell_type": "code",
   "execution_count": 9,
   "outputs": [],
   "source": [
    "with pipeline.shader_stages(vk.ShaderStage.VERTEX):\n",
    "    pipeline.load_shader_from_source(vertex_shader_code)\n",
    "with pipeline.shader_stages(vk.ShaderStage.FRAGMENT):\n",
    "    pipeline.load_shader_from_source(fragment_shader_code)\n",
    "pipeline.close()  # This creates the internal pipeline object and bindings"
   ],
   "metadata": {
    "collapsed": false,
    "ExecuteTime": {
     "end_time": "2025-07-29T20:18:28.447707800Z",
     "start_time": "2025-07-29T20:18:28.167509800Z"
    }
   },
   "id": "74c212e04427c7fe"
  },
  {
   "cell_type": "code",
   "execution_count": 10,
   "outputs": [],
   "source": [
    "framebuffer = pipeline.create_framebuffer(\n",
    "    width=SCREEN_WIDTH,\n",
    "    height=SCREEN_HEIGHT,\n",
    "    render_target=render_target,\n",
    "    depth_buffer=depth_buffer\n",
    ")"
   ],
   "metadata": {
    "collapsed": false,
    "ExecuteTime": {
     "end_time": "2025-07-29T20:18:28.455195700Z",
     "start_time": "2025-07-29T20:18:28.448707Z"
    }
   },
   "id": "e03ca22629a63136"
  },
  {
   "cell_type": "code",
   "execution_count": 11,
   "outputs": [],
   "source": [
    "man = vk.graphics_manager()\n",
    "man.clear_color(render_target, (0.0, 0.0, 0.5, 1.0))\n",
    "man.clear_depth_stencil(depth_buffer, 1.0, 0)\n",
    "man.set_pipeline(pipeline)\n",
    "man.set_framebuffer(framebuffer)"
   ],
   "metadata": {
    "collapsed": false,
    "ExecuteTime": {
     "end_time": "2025-07-29T20:18:28.461115200Z",
     "start_time": "2025-07-29T20:18:28.453195Z"
    }
   },
   "id": "c261238e20bf8a05"
  },
  {
   "cell_type": "markdown",
   "source": [
    "In Vulkan, the NDC (Normalized Device Coordinates) space is aligned with the framebuffer. This means that the default viewport would map the NDC's negative corner `(-1, -1)` to pixel coordinate `(0, 0)`, and the positive corner `(1, 1)` to `(width, height)`.\n",
    "\n",
    "As a result, the **Y-axis increases downward**, which matches the typical convention for images, but appears flipped compared to traditional rendering conventions (like OpenGL), where Y increases upward.\n",
    "\n",
    "This flip is purely a consequence of the viewport transformation and does **not** affect the camera's intrinsic or extrinsic matrices — those remain agnostic of framebuffer orientation.\n",
    "\n",
    "One common way to handle this Y-axis inversion is by configuring the viewport with a negative scale on Y and adjusting the origin accordingly, for example:\n",
    "- Set `viewport.height` to a **negative value**\n",
    "- Set `viewport.y` to the **framebuffer height**\n",
    "\n",
    "This effectively flips the rendering along Y without modifying the projection matrix.\n"
   ],
   "metadata": {
    "collapsed": false
   },
   "id": "30bd57612b70ae73"
  },
  {
   "cell_type": "code",
   "execution_count": null,
   "outputs": [],
   "source": [
    "man.set_viewport(0.0, framebuffer.height, framebuffer.width, -framebuffer.height)"
   ],
   "metadata": {
    "collapsed": false
   },
   "id": "1777f594e1a54098"
  },
  {
   "cell_type": "code",
   "execution_count": 12,
   "outputs": [],
   "source": [
    "man.bind_vertex_buffer(0, vertex_buffer)\n",
    "man.bind_index_buffer(index_buffer)\n",
    "man.dispatch_indexed_primitives(6)\n",
    "man.freeze()\n",
    "\n",
    "vk.submit(man)"
   ],
   "metadata": {
    "collapsed": false,
    "ExecuteTime": {
     "end_time": "2025-07-29T20:18:28.472198800Z",
     "start_time": "2025-07-29T20:18:28.459116900Z"
    }
   },
   "id": "5a7744548b50246c"
  },
  {
   "cell_type": "code",
   "execution_count": 13,
   "outputs": [
    {
     "data": {
      "text/plain": "<Figure size 800x800 with 1 Axes>",
      "image/png": "[encoded data removed]"
     },
     "metadata": {},
     "output_type": "display_data"
    }
   ],
   "source": [
    "staging = vk.tensor(render_target.height, render_target.width, 4)\n",
    "render_target.save(staging)\n",
    "import matplotlib.pyplot as plt\n",
    "# visualize the tensor with matplotlib\n",
    "plt.figure(figsize=(4,4), dpi=200)\n",
    "plt.imshow(staging.cpu())\n",
    "plt.gca().axis('off')\n",
    "plt.tight_layout(pad=0.0)\n",
    "plt.savefig('teaser4.jpg')\n",
    "plt.show()"
   ],
   "metadata": {
    "collapsed": false,
    "ExecuteTime": {
     "end_time": "2025-07-29T20:18:29.232527300Z",
     "start_time": "2025-07-29T20:18:28.473199300Z"
    }
   },
   "id": "36e2c7cfd506281e"
  }
 ],
 "metadata": {
  "kernelspec": {
   "display_name": "Python 3",
   "language": "python",
   "name": "python3"
  },
  "language_info": {
   "codemirror_mode": {
    "name": "ipython",
    "version": 2
   },
   "file_extension": ".py",
   "mimetype": "text/x-python",
   "name": "python",
   "nbconvert_exporter": "python",
   "pygments_lexer": "ipython2",
   "version": "2.7.6"
  }
 },
 "nbformat": 4,
 "nbformat_minor": 5
}
